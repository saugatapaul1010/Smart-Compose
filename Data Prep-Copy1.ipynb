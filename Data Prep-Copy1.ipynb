{
 "cells": [
  {
   "cell_type": "code",
   "execution_count": 1,
   "metadata": {},
   "outputs": [
    {
     "name": "stdout",
     "output_type": "stream",
     "text": [
      "Archive:  data_news.zip\n",
      "  inflating: data_news.csv           \n"
     ]
    }
   ],
   "source": [
    "!unzip data_news.zip"
   ]
  },
  {
   "cell_type": "code",
   "execution_count": 61,
   "metadata": {},
   "outputs": [
    {
     "name": "stderr",
     "output_type": "stream",
     "text": [
      "Using TensorFlow backend.\n"
     ]
    }
   ],
   "source": [
    "#Importing all the libraries\n",
    "import pandas as pd\n",
    "import numpy as np\n",
    "import string, os \n",
    "\n",
    "import tensorflow as tf\n",
    "from tensorflow import keras\n",
    "from keras import optimizers\n",
    "from tensorflow.keras.models import Model\n",
    "from tensorflow.keras.layers import Flatten, TimeDistributed, Dropout, LSTMCell, RNN\n",
    "from tensorflow.keras.layers import Input, LSTM, Dense, Embedding, CuDNNLSTM\n",
    "from tensorflow.keras.layers import Bidirectional, Concatenate, Layer\n",
    "from tensorflow.keras import backend as K\n",
    "\n",
    "import re\n",
    "import numpy as np\n",
    "import os\n",
    "\n",
    "from attention import AttentionLayer"
   ]
  },
  {
   "cell_type": "code",
   "execution_count": 4,
   "metadata": {},
   "outputs": [
    {
     "data": {
      "text/html": [
       "<div>\n",
       "<style scoped>\n",
       "    .dataframe tbody tr th:only-of-type {\n",
       "        vertical-align: middle;\n",
       "    }\n",
       "\n",
       "    .dataframe tbody tr th {\n",
       "        vertical-align: top;\n",
       "    }\n",
       "\n",
       "    .dataframe thead th {\n",
       "        text-align: right;\n",
       "    }\n",
       "</style>\n",
       "<table border=\"1\" class=\"dataframe\">\n",
       "  <thead>\n",
       "    <tr style=\"text-align: right;\">\n",
       "      <th></th>\n",
       "      <th>publish_date</th>\n",
       "      <th>headline_category</th>\n",
       "      <th>headline_text</th>\n",
       "    </tr>\n",
       "  </thead>\n",
       "  <tbody>\n",
       "    <tr>\n",
       "      <th>782273</th>\n",
       "      <td>20090821</td>\n",
       "      <td>city.rajkot</td>\n",
       "      <td>Dabba trading racket busted; 2 nabbed</td>\n",
       "    </tr>\n",
       "    <tr>\n",
       "      <th>959022</th>\n",
       "      <td>20100927</td>\n",
       "      <td>city.mumbai</td>\n",
       "      <td>No HC relief for youth who raped 12-year-old girl</td>\n",
       "    </tr>\n",
       "    <tr>\n",
       "      <th>852587</th>\n",
       "      <td>20100116</td>\n",
       "      <td>business.india-business</td>\n",
       "      <td>3G may be non-starter in 2010</td>\n",
       "    </tr>\n",
       "    <tr>\n",
       "      <th>1835248</th>\n",
       "      <td>20140702</td>\n",
       "      <td>city.chandigarh</td>\n",
       "      <td>Companies agree to lower cement prices</td>\n",
       "    </tr>\n",
       "    <tr>\n",
       "      <th>826414</th>\n",
       "      <td>20091115</td>\n",
       "      <td>home.sunday-times.deep-focus</td>\n",
       "      <td>Sachin's focus made him more successful: Imran...</td>\n",
       "    </tr>\n",
       "  </tbody>\n",
       "</table>\n",
       "</div>"
      ],
      "text/plain": [
       "         publish_date             headline_category  \\\n",
       "782273       20090821                   city.rajkot   \n",
       "959022       20100927                   city.mumbai   \n",
       "852587       20100116       business.india-business   \n",
       "1835248      20140702               city.chandigarh   \n",
       "826414       20091115  home.sunday-times.deep-focus   \n",
       "\n",
       "                                             headline_text  \n",
       "782273               Dabba trading racket busted; 2 nabbed  \n",
       "959022   No HC relief for youth who raped 12-year-old girl  \n",
       "852587                       3G may be non-starter in 2010  \n",
       "1835248             Companies agree to lower cement prices  \n",
       "826414   Sachin's focus made him more successful: Imran...  "
      ]
     },
     "execution_count": 4,
     "metadata": {},
     "output_type": "execute_result"
    }
   ],
   "source": [
    "#Read the dataset\n",
    "df = pd.read_csv(\"data_news.csv\").sample(1000)\n",
    "df.head()"
   ]
  },
  {
   "cell_type": "code",
   "execution_count": 6,
   "metadata": {},
   "outputs": [
    {
     "data": {
      "text/html": [
       "<div>\n",
       "<style scoped>\n",
       "    .dataframe tbody tr th:only-of-type {\n",
       "        vertical-align: middle;\n",
       "    }\n",
       "\n",
       "    .dataframe tbody tr th {\n",
       "        vertical-align: top;\n",
       "    }\n",
       "\n",
       "    .dataframe thead th {\n",
       "        text-align: right;\n",
       "    }\n",
       "</style>\n",
       "<table border=\"1\" class=\"dataframe\">\n",
       "  <thead>\n",
       "    <tr style=\"text-align: right;\">\n",
       "      <th></th>\n",
       "      <th>publish_date</th>\n",
       "      <th>headline_category</th>\n",
       "      <th>headline_text</th>\n",
       "      <th>processed_news</th>\n",
       "    </tr>\n",
       "  </thead>\n",
       "  <tbody>\n",
       "    <tr>\n",
       "      <th>782273</th>\n",
       "      <td>20090821</td>\n",
       "      <td>city.rajkot</td>\n",
       "      <td>Dabba trading racket busted; 2 nabbed</td>\n",
       "      <td>dabba trading racket busted    nabbed</td>\n",
       "    </tr>\n",
       "    <tr>\n",
       "      <th>959022</th>\n",
       "      <td>20100927</td>\n",
       "      <td>city.mumbai</td>\n",
       "      <td>No HC relief for youth who raped 12-year-old girl</td>\n",
       "      <td>no hc relief for youth who raped    year old girl</td>\n",
       "    </tr>\n",
       "    <tr>\n",
       "      <th>852587</th>\n",
       "      <td>20100116</td>\n",
       "      <td>business.india-business</td>\n",
       "      <td>3G may be non-starter in 2010</td>\n",
       "      <td>g may be non starter in</td>\n",
       "    </tr>\n",
       "    <tr>\n",
       "      <th>1835248</th>\n",
       "      <td>20140702</td>\n",
       "      <td>city.chandigarh</td>\n",
       "      <td>Companies agree to lower cement prices</td>\n",
       "      <td>companies agree to lower cement prices</td>\n",
       "    </tr>\n",
       "    <tr>\n",
       "      <th>826414</th>\n",
       "      <td>20091115</td>\n",
       "      <td>home.sunday-times.deep-focus</td>\n",
       "      <td>Sachin's focus made him more successful: Imran...</td>\n",
       "      <td>sachin s focus made him more successful  imran...</td>\n",
       "    </tr>\n",
       "  </tbody>\n",
       "</table>\n",
       "</div>"
      ],
      "text/plain": [
       "         publish_date             headline_category  \\\n",
       "782273       20090821                   city.rajkot   \n",
       "959022       20100927                   city.mumbai   \n",
       "852587       20100116       business.india-business   \n",
       "1835248      20140702               city.chandigarh   \n",
       "826414       20091115  home.sunday-times.deep-focus   \n",
       "\n",
       "                                             headline_text  \\\n",
       "782273               Dabba trading racket busted; 2 nabbed   \n",
       "959022   No HC relief for youth who raped 12-year-old girl   \n",
       "852587                       3G may be non-starter in 2010   \n",
       "1835248             Companies agree to lower cement prices   \n",
       "826414   Sachin's focus made him more successful: Imran...   \n",
       "\n",
       "                                            processed_news  \n",
       "782273               dabba trading racket busted    nabbed  \n",
       "959022   no hc relief for youth who raped    year old girl  \n",
       "852587                        g may be non starter in       \n",
       "1835248             companies agree to lower cement prices  \n",
       "826414   sachin s focus made him more successful  imran...  "
      ]
     },
     "execution_count": 6,
     "metadata": {},
     "output_type": "execute_result"
    }
   ],
   "source": [
    "#Pre-process the dataset\n",
    "def process(sent):\n",
    "    string=re.sub(r'\\([^)]*\\)', ' ', sent)\n",
    "    string=re.sub(r'\\[[^)]*\\]', ' ', string)\n",
    "    string=string.replace(\"\\n\",\" \")\n",
    "    string=string.strip()\n",
    "    string=re.sub('[^.a-zA-Z]',' ',string)\n",
    "    string=string.lower()\n",
    "    return string\n",
    "\n",
    "df['processed_news']=df['headline_text'].apply(process)\n",
    "df.head()"
   ]
  },
  {
   "cell_type": "code",
   "execution_count": 8,
   "metadata": {},
   "outputs": [],
   "source": [
    "#Consider only those sentences having word lenght > 2\n",
    "string_list=[]\n",
    "for i in df['processed_news'].values:\n",
    "    length=len(i.split())\n",
    "    if(length>12):\n",
    "        string_list.append(i)"
   ]
  },
  {
   "cell_type": "code",
   "execution_count": 9,
   "metadata": {},
   "outputs": [
    {
     "data": {
      "text/plain": [
       "32"
      ]
     },
     "execution_count": 9,
     "metadata": {},
     "output_type": "execute_result"
    }
   ],
   "source": [
    "len(string_list)"
   ]
  },
  {
   "cell_type": "code",
   "execution_count": 1,
   "metadata": {},
   "outputs": [],
   "source": [
    "\"\"\"\n",
    "import pandas as pd\n",
    "import re\n",
    "import numpy as np\n",
    "import tensorflow as tf\n",
    "file = open(\"demo_text.txt\",\"r\") \n",
    "string=file.read()\n",
    "\n",
    "string=re.sub(r'\\([^)]*\\)', '', string)\n",
    "string=re.sub(r'\\[[^)]*\\]', '', string)\n",
    "string=string.replace(\"\\n\",\"\")\n",
    "string=string.strip()\n",
    "string=re.sub('[^.a-zA-Z]',' ',string)\n",
    "string=string.lower()\n",
    "string_list=string.split(\".\")\n",
    "\"\"\""
   ]
  },
  {
   "cell_type": "code",
   "execution_count": 10,
   "metadata": {},
   "outputs": [
    {
     "data": {
      "text/plain": [
       "348"
      ]
     },
     "execution_count": 10,
     "metadata": {},
     "output_type": "execute_result"
    }
   ],
   "source": [
    "#Prepare a corpus of all the words present\n",
    "corpus=\" \".join(string_list)\n",
    "corpus=corpus+\" \"+\"<start>\"+\" \"+\"<end>\"\n",
    "corpus_words=corpus.split()\n",
    "corpus_set=list(set(sorted(corpus_words)))\n",
    "len(corpus_set)"
   ]
  },
  {
   "cell_type": "code",
   "execution_count": 11,
   "metadata": {},
   "outputs": [],
   "source": [
    "#Mapping between word and index, reverse mapping of word an index\n",
    "word_to_index= {word: index for (index, word) in enumerate(corpus_set)}\n",
    "index_to_word = {index: word for (word, index) in word_to_index.items()}"
   ]
  },
  {
   "cell_type": "code",
   "execution_count": 12,
   "metadata": {},
   "outputs": [],
   "source": [
    "#Create the dataset\n",
    "def generate_dataset():\n",
    "    X_data=[]\n",
    "    Y_data=[]\n",
    "\n",
    "    for sent in string_list:\n",
    "        for i in range(len(sent.split())):\n",
    "            X=['<start> ']+ sent.split()[:i+1] + [' <end>']\n",
    "            X=\" \".join(X)\n",
    "            Y=['<start> ']+ sent.split()[i+1:] + [' <end>']\n",
    "            Y=\" \".join(Y)\n",
    "            X_data.append(X)\n",
    "            Y_data.append(Y)\n",
    "\n",
    "    data=pd.DataFrame()\n",
    "    data[\"input\"]=X_data\n",
    "    data[\"output\"]=Y_data\n",
    "    \n",
    "    return data\n",
    "\n",
    "#Encoding the string to number sequences(word level encoding)\n",
    "def encode_string(string):\n",
    "    encoded_list=[]\n",
    "    raw_words=string.split()\n",
    "    for word in raw_words:\n",
    "        idx=word_to_index[word]\n",
    "        encoded_list.append(idx)\n",
    "        \n",
    "    return encoded_list\n",
    "\n",
    "#Post padding of input sentences based on max_len paramter\n",
    "def pad_sequences(input_list, max_len):\n",
    "    pads=max_len-len(input_list)\n",
    "    zero_seq=[0]*pads\n",
    "    input_list.extend(zero_seq)\n",
    "    return input_list    "
   ]
  },
  {
   "cell_type": "code",
   "execution_count": 13,
   "metadata": {},
   "outputs": [
    {
     "data": {
      "text/html": [
       "<div>\n",
       "<style scoped>\n",
       "    .dataframe tbody tr th:only-of-type {\n",
       "        vertical-align: middle;\n",
       "    }\n",
       "\n",
       "    .dataframe tbody tr th {\n",
       "        vertical-align: top;\n",
       "    }\n",
       "\n",
       "    .dataframe thead th {\n",
       "        text-align: right;\n",
       "    }\n",
       "</style>\n",
       "<table border=\"1\" class=\"dataframe\">\n",
       "  <thead>\n",
       "    <tr style=\"text-align: right;\">\n",
       "      <th></th>\n",
       "      <th>input</th>\n",
       "      <th>output</th>\n",
       "    </tr>\n",
       "  </thead>\n",
       "  <tbody>\n",
       "    <tr>\n",
       "      <th>0</th>\n",
       "      <td>&lt;start&gt;  hyderabad  &lt;end&gt;</td>\n",
       "      <td>&lt;start&gt;  drugs case suresh babu s courier attr...</td>\n",
       "    </tr>\n",
       "    <tr>\n",
       "      <th>1</th>\n",
       "      <td>&lt;start&gt;  hyderabad drugs  &lt;end&gt;</td>\n",
       "      <td>&lt;start&gt;  case suresh babu s courier attracts e...</td>\n",
       "    </tr>\n",
       "    <tr>\n",
       "      <th>2</th>\n",
       "      <td>&lt;start&gt;  hyderabad drugs case  &lt;end&gt;</td>\n",
       "      <td>&lt;start&gt;  suresh babu s courier attracts excise...</td>\n",
       "    </tr>\n",
       "    <tr>\n",
       "      <th>3</th>\n",
       "      <td>&lt;start&gt;  hyderabad drugs case suresh  &lt;end&gt;</td>\n",
       "      <td>&lt;start&gt;  babu s courier attracts excise sleuth...</td>\n",
       "    </tr>\n",
       "    <tr>\n",
       "      <th>4</th>\n",
       "      <td>&lt;start&gt;  hyderabad drugs case suresh babu  &lt;end&gt;</td>\n",
       "      <td>&lt;start&gt;  s courier attracts excise sleuths to ...</td>\n",
       "    </tr>\n",
       "  </tbody>\n",
       "</table>\n",
       "</div>"
      ],
      "text/plain": [
       "                                              input  \\\n",
       "0                         <start>  hyderabad  <end>   \n",
       "1                   <start>  hyderabad drugs  <end>   \n",
       "2              <start>  hyderabad drugs case  <end>   \n",
       "3       <start>  hyderabad drugs case suresh  <end>   \n",
       "4  <start>  hyderabad drugs case suresh babu  <end>   \n",
       "\n",
       "                                              output  \n",
       "0  <start>  drugs case suresh babu s courier attr...  \n",
       "1  <start>  case suresh babu s courier attracts e...  \n",
       "2  <start>  suresh babu s courier attracts excise...  \n",
       "3  <start>  babu s courier attracts excise sleuth...  \n",
       "4  <start>  s courier attracts excise sleuths to ...  "
      ]
     },
     "execution_count": 13,
     "metadata": {},
     "output_type": "execute_result"
    }
   ],
   "source": [
    "data=generate_dataset()\n",
    "data.head()"
   ]
  },
  {
   "cell_type": "code",
   "execution_count": 14,
   "metadata": {},
   "outputs": [],
   "source": [
    "#Encode the strings to output string\n",
    "data['encoded_input']=data['input'].apply(encode_string)\n",
    "data['encoded_output']=data['output'].apply(encode_string)"
   ]
  },
  {
   "cell_type": "code",
   "execution_count": 15,
   "metadata": {},
   "outputs": [
    {
     "data": {
      "text/html": [
       "<div>\n",
       "<style scoped>\n",
       "    .dataframe tbody tr th:only-of-type {\n",
       "        vertical-align: middle;\n",
       "    }\n",
       "\n",
       "    .dataframe tbody tr th {\n",
       "        vertical-align: top;\n",
       "    }\n",
       "\n",
       "    .dataframe thead th {\n",
       "        text-align: right;\n",
       "    }\n",
       "</style>\n",
       "<table border=\"1\" class=\"dataframe\">\n",
       "  <thead>\n",
       "    <tr style=\"text-align: right;\">\n",
       "      <th></th>\n",
       "      <th>input</th>\n",
       "      <th>output</th>\n",
       "      <th>encoded_input</th>\n",
       "      <th>encoded_output</th>\n",
       "    </tr>\n",
       "  </thead>\n",
       "  <tbody>\n",
       "    <tr>\n",
       "      <th>0</th>\n",
       "      <td>&lt;start&gt;  hyderabad  &lt;end&gt;</td>\n",
       "      <td>&lt;start&gt;  drugs case suresh babu s courier attr...</td>\n",
       "      <td>[303, 105, 13]</td>\n",
       "      <td>[303, 243, 186, 132, 63, 179, 308, 53, 331, 19...</td>\n",
       "    </tr>\n",
       "    <tr>\n",
       "      <th>1</th>\n",
       "      <td>&lt;start&gt;  hyderabad drugs  &lt;end&gt;</td>\n",
       "      <td>&lt;start&gt;  case suresh babu s courier attracts e...</td>\n",
       "      <td>[303, 105, 243, 13]</td>\n",
       "      <td>[303, 186, 132, 63, 179, 308, 53, 331, 196, 39...</td>\n",
       "    </tr>\n",
       "    <tr>\n",
       "      <th>2</th>\n",
       "      <td>&lt;start&gt;  hyderabad drugs case  &lt;end&gt;</td>\n",
       "      <td>&lt;start&gt;  suresh babu s courier attracts excise...</td>\n",
       "      <td>[303, 105, 243, 186, 13]</td>\n",
       "      <td>[303, 132, 63, 179, 308, 53, 331, 196, 39, 106...</td>\n",
       "    </tr>\n",
       "    <tr>\n",
       "      <th>3</th>\n",
       "      <td>&lt;start&gt;  hyderabad drugs case suresh  &lt;end&gt;</td>\n",
       "      <td>&lt;start&gt;  babu s courier attracts excise sleuth...</td>\n",
       "      <td>[303, 105, 243, 186, 132, 13]</td>\n",
       "      <td>[303, 63, 179, 308, 53, 331, 196, 39, 106, 274...</td>\n",
       "    </tr>\n",
       "    <tr>\n",
       "      <th>4</th>\n",
       "      <td>&lt;start&gt;  hyderabad drugs case suresh babu  &lt;end&gt;</td>\n",
       "      <td>&lt;start&gt;  s courier attracts excise sleuths to ...</td>\n",
       "      <td>[303, 105, 243, 186, 132, 63, 13]</td>\n",
       "      <td>[303, 179, 308, 53, 331, 196, 39, 106, 274, 13]</td>\n",
       "    </tr>\n",
       "  </tbody>\n",
       "</table>\n",
       "</div>"
      ],
      "text/plain": [
       "                                              input  \\\n",
       "0                         <start>  hyderabad  <end>   \n",
       "1                   <start>  hyderabad drugs  <end>   \n",
       "2              <start>  hyderabad drugs case  <end>   \n",
       "3       <start>  hyderabad drugs case suresh  <end>   \n",
       "4  <start>  hyderabad drugs case suresh babu  <end>   \n",
       "\n",
       "                                              output  \\\n",
       "0  <start>  drugs case suresh babu s courier attr...   \n",
       "1  <start>  case suresh babu s courier attracts e...   \n",
       "2  <start>  suresh babu s courier attracts excise...   \n",
       "3  <start>  babu s courier attracts excise sleuth...   \n",
       "4  <start>  s courier attracts excise sleuths to ...   \n",
       "\n",
       "                       encoded_input  \\\n",
       "0                     [303, 105, 13]   \n",
       "1                [303, 105, 243, 13]   \n",
       "2           [303, 105, 243, 186, 13]   \n",
       "3      [303, 105, 243, 186, 132, 13]   \n",
       "4  [303, 105, 243, 186, 132, 63, 13]   \n",
       "\n",
       "                                      encoded_output  \n",
       "0  [303, 243, 186, 132, 63, 179, 308, 53, 331, 19...  \n",
       "1  [303, 186, 132, 63, 179, 308, 53, 331, 196, 39...  \n",
       "2  [303, 132, 63, 179, 308, 53, 331, 196, 39, 106...  \n",
       "3  [303, 63, 179, 308, 53, 331, 196, 39, 106, 274...  \n",
       "4    [303, 179, 308, 53, 331, 196, 39, 106, 274, 13]  "
      ]
     },
     "execution_count": 15,
     "metadata": {},
     "output_type": "execute_result"
    }
   ],
   "source": [
    "data.head()"
   ]
  },
  {
   "cell_type": "code",
   "execution_count": 19,
   "metadata": {},
   "outputs": [],
   "source": [
    "#Get max length of input and output strings\n",
    "max_length_input=max([len(i) for i in data.encoded_input.values])\n",
    "max_length_output=max([len(i) for i in data.encoded_output.values])"
   ]
  },
  {
   "cell_type": "code",
   "execution_count": 20,
   "metadata": {},
   "outputs": [],
   "source": [
    "#Creating a list of list of encoded_sequences => [[a,b,c],[d,e,f,g]]\n",
    "input_data=[i for i in data.encoded_input.values]\n",
    "output_data=[i for i in data.encoded_output.values]"
   ]
  },
  {
   "cell_type": "code",
   "execution_count": 21,
   "metadata": {},
   "outputs": [],
   "source": [
    "#Pad the sequences by appending zeros at the end\n",
    "data['padded_input']=data['encoded_input'].apply(lambda x: pad_sequences(x, max_length_input))\n",
    "data['padded_output']=data['encoded_output'].apply(lambda x: pad_sequences(x, max_length_output))"
   ]
  },
  {
   "cell_type": "code",
   "execution_count": 43,
   "metadata": {},
   "outputs": [],
   "source": [
    "#Convert the padded list of list to a numpy array\n",
    "import numpy as np\n",
    "padded_input=np.array([i for i in data.padded_input.values])\n",
    "padded_output=np.array([i for i in data.padded_output.values]) #padded_output.shape = (x,y)"
   ]
  },
  {
   "cell_type": "code",
   "execution_count": 52,
   "metadata": {},
   "outputs": [],
   "source": [
    "#Remove start and end ineteger encodings\n",
    "target_data = [[padded_output[n][i+1] for i in range(len(padded_output[n])-1)] for n in range(len(padded_output))]\n",
    "\n",
    "#pad the sequence after removing the start/emd integers\n",
    "target_data = tf.keras.preprocessing.sequence.pad_sequences(target_data, maxlen=max_length_output, padding=\"post\")\n",
    "\n",
    "#target_data.shape =(x,y,1)\n",
    "target_data = target_data.reshape((target_data.shape[0], target_data.shape[1], 1))"
   ]
  },
  {
   "cell_type": "code",
   "execution_count": 58,
   "metadata": {},
   "outputs": [],
   "source": [
    "BUFFER_SIZE = len(input_data)\n",
    "BATCH_SIZE = 128\n",
    "embedding_dim = 300\n",
    "vocab_size = len(word_to_index.keys())"
   ]
  },
  {
   "cell_type": "code",
   "execution_count": 54,
   "metadata": {},
   "outputs": [
    {
     "name": "stdout",
     "output_type": "stream",
     "text": [
      "348\n"
     ]
    }
   ],
   "source": [
    "print(vocab_in_size)"
   ]
  },
  {
   "cell_type": "code",
   "execution_count": 63,
   "metadata": {
    "scrolled": true
   },
   "outputs": [
    {
     "name": "stdout",
     "output_type": "stream",
     "text": [
      "__________________________________________________________________________________________________\n",
      "Layer (type)                    Output Shape         Param #     Connected to                     \n",
      "==================================================================================================\n",
      "input_8 (InputLayer)            (None, 23)           0                                            \n",
      "__________________________________________________________________________________________________\n",
      "embedding_6 (Embedding)         (None, 23, 300)      104400      input_8[0][0]                    \n",
      "__________________________________________________________________________________________________\n",
      "input_9 (InputLayer)            (None, None)         0                                            \n",
      "__________________________________________________________________________________________________\n",
      "bidirectional_3 (Bidirectional) [(None, 23, 256), (N 440320      embedding_6[0][0]                \n",
      "__________________________________________________________________________________________________\n",
      "embedding_7 (Embedding)         (None, None, 300)    104400      input_9[0][0]                    \n",
      "__________________________________________________________________________________________________\n",
      "concatenate_6 (Concatenate)     (None, 256)          0           bidirectional_3[0][1]            \n",
      "                                                                 bidirectional_3[0][3]            \n",
      "__________________________________________________________________________________________________\n",
      "concatenate_7 (Concatenate)     (None, 256)          0           bidirectional_3[0][3]            \n",
      "                                                                 bidirectional_3[0][4]            \n",
      "__________________________________________________________________________________________________\n",
      "cu_dnnlstm_7 (CuDNNLSTM)        [(None, None, 256),  571392      embedding_7[0][0]                \n",
      "                                                                 concatenate_6[0][0]              \n",
      "                                                                 concatenate_7[0][0]              \n",
      "__________________________________________________________________________________________________\n",
      "dropout_7 (Dropout)             (None, None, 256)    0           cu_dnnlstm_7[0][0]               \n",
      "__________________________________________________________________________________________________\n",
      "dense_6 (Dense)                 (None, None, 128)    32896       dropout_7[0][0]                  \n",
      "__________________________________________________________________________________________________\n",
      "dropout_6 (Dropout)             (None, None, 128)    0           dense_6[0][0]                    \n",
      "__________________________________________________________________________________________________\n",
      "dense_7 (Dense)                 (None, None, 348)    44892       dropout_6[0][0]                  \n",
      "==================================================================================================\n",
      "Total params: 1,298,300\n",
      "Trainable params: 1,298,300\n",
      "Non-trainable params: 0\n",
      "__________________________________________________________________________________________________\n"
     ]
    }
   ],
   "source": [
    "#Encoder Layers\n",
    "encoder_inputs = Input(shape=(max_length_input,))\n",
    "encoder_emb = Embedding(input_dim=vocab_size, output_dim=embedding_dim)\n",
    "encoder_lstm = Bidirectional(CuDNNLSTM(units=128, \n",
    "                                       return_sequences=True, \n",
    "                                       return_state=True))\n",
    "encoder_outputs, fstate_h, fstate_c, bstate_h, bstate_c = encoder_lstm(encoder_emb(encoder_inputs))\n",
    "state_h = Concatenate()([fstate_h,bstate_h])\n",
    "state_c = Concatenate()([bstate_h,bstate_c])\n",
    "encoder_states = [state_h, state_c]\n",
    "\n",
    "\n",
    "#Decoder layers\n",
    "decoder_inputs = Input(shape=(None,))\n",
    "decoder_emb = Embedding(input_dim=vocab_size, \n",
    "                        output_dim=embedding_dim)\n",
    "decoder_lstm = CuDNNLSTM(units=256, \n",
    "                         return_sequences=True, \n",
    "                         return_state=True)\n",
    "decoder_outputs, decoder_fwd_state, decoder_back_state = decoder_lstm(decoder_emb(decoder_inputs), \n",
    "                                                                      initial_state=encoder_states)\n",
    "\n",
    "\n",
    "# Attention layer\n",
    "attn_layer = AttentionLayer(name='attention_layer')\n",
    "attn_out, attn_states = attn_layer([encoder_outputs, decoder_outputs])\n",
    "\n",
    "# Concat attention input and decoder LSTM output\n",
    "decoder_concat_input = Concatenate(axis=-1, name='concat_layer')([decoder_outputs, attn_out])\n",
    "\n",
    "#Adding two dense layers to the model to improve inference capabilities.\n",
    "decoder_d1 = Dense(128, activation=\"relu\")\n",
    "decoder_d2 = Dense(vocab_out_size, activation=\"softmax\")\n",
    "decoder_out = decoder_d2(Dropout(rate=0.3)(decoder_d1(Dropout(rate=0.3)(decoder_outputs))))\n",
    "\n",
    "#Creating a training model which combined the encoder decoder.\n",
    "model = Model(inputs = [encoder_inputs, decoder_inputs], outputs= decoder_out)\n",
    "\n",
    "#Compile the model\n",
    "model.compile(optimizer=optimizers.Adam(lr=0.0001), \n",
    "              loss=\"sparse_categorical_crossentropy\", \n",
    "              metrics=['sparse_categorical_accuracy'])\n",
    "model.summary()"
   ]
  },
  {
   "cell_type": "code",
   "execution_count": 25,
   "metadata": {},
   "outputs": [
    {
     "name": "stderr",
     "output_type": "stream",
     "text": [
      "W0904 03:51:19.018886 140120199055104 deprecation.py:323] From /usr/local/lib/python3.5/dist-packages/tensorflow/python/ops/math_grad.py:1250: add_dispatch_support.<locals>.wrapper (from tensorflow.python.ops.array_ops) is deprecated and will be removed in a future version.\n",
      "Instructions for updating:\n",
      "Use tf.where in 2.0, which has the same broadcast rule as np.where\n"
     ]
    },
    {
     "name": "stdout",
     "output_type": "stream",
     "text": [
      "Train on 1082193 samples, validate on 270549 samples\n",
      "Epoch 1/10\n",
      "1082193/1082193 [==============================] - 1299s 1ms/sample - loss: 1.3566 - sparse_categorical_accuracy: 0.8200 - val_loss: 1.4505 - val_sparse_categorical_accuracy: 0.8177\n",
      "Epoch 2/10\n",
      "1082193/1082193 [==============================] - 1293s 1ms/sample - loss: 0.9995 - sparse_categorical_accuracy: 0.8438 - val_loss: 1.5255 - val_sparse_categorical_accuracy: 0.8176\n",
      "Epoch 3/10\n",
      "1082193/1082193 [==============================] - 1293s 1ms/sample - loss: 0.8573 - sparse_categorical_accuracy: 0.8576 - val_loss: 1.6032 - val_sparse_categorical_accuracy: 0.8166\n",
      "Epoch 4/10\n",
      "1082193/1082193 [==============================] - 1292s 1ms/sample - loss: 0.7766 - sparse_categorical_accuracy: 0.8669 - val_loss: 1.6541 - val_sparse_categorical_accuracy: 0.8153\n",
      "Epoch 5/10\n",
      "1082193/1082193 [==============================] - 1293s 1ms/sample - loss: 0.7231 - sparse_categorical_accuracy: 0.8737 - val_loss: 1.7054 - val_sparse_categorical_accuracy: 0.8152\n",
      "Epoch 6/10\n",
      "1082193/1082193 [==============================] - 1294s 1ms/sample - loss: 0.6847 - sparse_categorical_accuracy: 0.8788 - val_loss: 1.7392 - val_sparse_categorical_accuracy: 0.8147\n",
      "Epoch 7/10\n",
      "1082193/1082193 [==============================] - 1294s 1ms/sample - loss: 0.6554 - sparse_categorical_accuracy: 0.8828 - val_loss: 1.7685 - val_sparse_categorical_accuracy: 0.8139\n",
      "Epoch 8/10\n",
      "1082193/1082193 [==============================] - 1292s 1ms/sample - loss: 0.6324 - sparse_categorical_accuracy: 0.8861 - val_loss: 1.7927 - val_sparse_categorical_accuracy: 0.8136\n",
      "Epoch 9/10\n",
      "1082193/1082193 [==============================] - 1291s 1ms/sample - loss: 0.6136 - sparse_categorical_accuracy: 0.8887 - val_loss: 1.8127 - val_sparse_categorical_accuracy: 0.8130\n",
      "Epoch 10/10\n",
      "1082193/1082193 [==============================] - 1291s 1ms/sample - loss: 0.5979 - sparse_categorical_accuracy: 0.8911 - val_loss: 1.8340 - val_sparse_categorical_accuracy: 0.8129\n"
     ]
    }
   ],
   "source": [
    "#20% validation split, TODO: Split the original data into train and validation\n",
    "epochs = 10\n",
    "history = model.fit([input_data, padded_output], target_data,\n",
    "                 batch_size= BATCH_SIZE,\n",
    "                 epochs=epochs,\n",
    "                 validation_split=0.2)"
   ]
  },
  {
   "cell_type": "code",
   "execution_count": 28,
   "metadata": {},
   "outputs": [
    {
     "data": {
      "image/png": "[encoded data removed]",
      "text/plain": [
       "<Figure size 864x432 with 1 Axes>"
      ]
     },
     "metadata": {
      "needs_background": "light"
     },
     "output_type": "display_data"
    }
   ],
   "source": [
    "import matplotlib.pyplot as plt\n",
    "def plt_epoch_error(x, val_error, train_error, colors=['b']):\n",
    "    \"\"\"\n",
    "    This function is used to plot the loss vs epoch for the\n",
    "    trained models using the History callback.\n",
    "    \"\"\"\n",
    "    plt.figure(figsize=(12,6))\n",
    "    plt.grid()\n",
    "    plt.plot(x, val_error, 'b', label=\"Validation Loss\")\n",
    "    plt.plot(x, train_error, 'r', label=\"Trainin Loss\")\n",
    "    plt.xlabel(\"Epochs\")\n",
    "    plt.ylabel(\"Sparse Categorical Crossentropy Loss\")\n",
    "    plt.legend()\n",
    "    \n",
    "#List of epoch numbers\n",
    "x = list(range(0,len(history.history['val_loss'])))\n",
    "\n",
    "#Plot train vs test loss\n",
    "val_error = history.history['val_loss'] \n",
    "train_error = history.history['loss'] \n",
    "plt_epoch_error(x, val_error, train_error)"
   ]
  },
  {
   "cell_type": "code",
   "execution_count": 64,
   "metadata": {},
   "outputs": [],
   "source": [
    "# Create the encoder model from the tensors we previously declared.\n",
    "encoder_model = Model(encoder_inputs, [encoder_outputs, state_h, state_c])\n",
    "\n",
    "#Generate a new set of tensors for inference decoder. \n",
    "inference_decoder_inputs = Input(shape=(None,), name=\"inference_decoder_inputs\")\n",
    "\n",
    "# We'll need to force feed the two state variables into the decoder each step.\n",
    "state_input_h = Input(shape=(units*2,), name=\"state_input_h\")\n",
    "state_input_c = Input(shape=(units*2,), name=\"state_input_c\")\n",
    "decoder_res, decoder_h, decoder_c = decoder_lstm(decoder_emb(inference_decoder_inputs), \n",
    "                                                 initial_state=[state_input_h, state_input_c])\n",
    "inference_decoder_out = decoder_d2(decoder_d1(decoder_res))\n",
    "inference_model = Model(inputs=[inference_decoder_inputs, state_input_h, state_input_c], \n",
    "                  outputs=[inference_decoder_out, decoder_h, decoder_c])"
   ]
  },
  {
   "cell_type": "code",
   "execution_count": 30,
   "metadata": {},
   "outputs": [],
   "source": [
    "# Converts the given sentence (just a string) into a vectortor of word IDs\n",
    "# Output is 1-D: [timesteps/words]\n",
    "\n",
    "def sentence_to_vector(sentence):\n",
    "    vector = np.zeros(max_length_input)\n",
    "    word_list = [word_to_index[word] for word in sentence.split(' ')]\n",
    "    for idx,word in enumerate(word_list):\n",
    "        vector[idx] = word\n",
    "    return vector\n",
    "\n",
    "# Given an input string, an encoder model (infenc_model) and a decoder model (infmodel),\n",
    "def translate(input_sentence, infenc_model, infmodel):\n",
    "    sv = sentence_to_vector(input_sentence)\n",
    "    sv = sv.reshape(1,len(sv))\n",
    "    [emb_out, sh, sc] = infenc_model.predict(x=sv)\n",
    "    \n",
    "    i = 0\n",
    "    start_vector = word_to_index[\"<start>\"]\n",
    "    stop_vector = word_to_index[\"<end>\"]\n",
    "    \n",
    "    cur_vector = np.zeros((1,1))\n",
    "    cur_vector[0,0] = start_vector\n",
    "    cur_word = \"<start>\"\n",
    "    output_sentence = \"\"\n",
    "\n",
    "    while cur_word != \"<end>\" and i < (max_length_output-1):\n",
    "        i += 1\n",
    "        if cur_word != \"<start>\":\n",
    "            output_sentence = output_sentence + \" \" + cur_word\n",
    "        x_in = [cur_vector, sh, sc]\n",
    "        [nvector, sh, sc] = infmodel.predict(x=x_in)\n",
    "        cur_vector[0,0] = np.argmax(nvector[0,0])\n",
    "        cur_word = index_to_word[np.argmax(nvector[0,0])]\n",
    "    return output_sentence"
   ]
  },
  {
   "cell_type": "code",
   "execution_count": 101,
   "metadata": {},
   "outputs": [
    {
     "name": "stdout",
     "output_type": "stream",
     "text": [
      "machine has to be a new year in a fix on the first time in months\n",
      "\n",
      "we are here in the fantastic a reminder that people will be on it says uddhav\n",
      "\n",
      "this is not a meaty role in a film with a newcomer says aarambh actress karthika nair\n",
      "\n",
      "can we cover the news to be a part of the world s biggest world cup\n",
      "\n",
      "this is a very bad state to be a neech person who was morally corrupt\n",
      "\n",
      "the death of the hobbit will have a lot of intensity that we prove scripts\n",
      "\n",
      "the arrest of the hobbit will have a lot of grey s real life charles sobhraj\n",
      "\n",
      "america is to be a new motto for a way for bjp s next\n",
      "\n",
      "the bjp government to be a new lease of life in the state of gandhigram\n",
      "\n",
      "this is a first time to be a shade of grey in comics with adjustments\n",
      "\n",
      "he has been doing in the newspapers for a good time in the race for bilingual film run\n",
      "\n",
      "the newspapers are targaryen and samrat and a showstopper at the duchess utsav and bridal marriott hotel in chennai\n",
      "\n",
      "this is exactly the nuns love my way to portray them as luck says louis van gaal\n",
      "\n",
      "fissures in hurriyat case to probe hasan ali s disproportionate assets case against ex cm\n",
      "\n",
      "we are actively in the world s first to be a big plunge aap\n",
      "\n",
      "there is a small role for a daal moment when prices are a hippie at heart\n",
      "\n",
      "the film is too bad to be a sindoor dhari saas or angelina jolie\n",
      "\n",
      "can we have a a pizza s life in the world s most expensive acs\n",
      "\n",
      "is this to be a part of the film s the world s most stylish working female foeticide\n",
      "\n",
      "the film is to be a lot of firangi on akshay kumar s tunes in this new year\n",
      "\n",
      "akshay kumar is going to be a part of the film with the makers of mohanlal s expensive couple\n",
      "\n"
     ]
    }
   ],
   "source": [
    "def generate_output(sent):\n",
    "    input_sent=sent.lower()\n",
    "    output_sent=translate(input_sent, encoder_model, inf_model)\n",
    "    final_sent=sent+\"\"+output_sent+\"\\n\"\n",
    "    print(final_sent)\n",
    "\n",
    "\n",
    "test = ['machine has',\n",
    "       'we are here',\n",
    "       'this is not',\n",
    "       'can we cover the news',\n",
    "       'this is a very bad state',\n",
    "       'the death',\n",
    "       'the arrest',\n",
    "       'america is',\n",
    "       'the bjp government',\n",
    "       'this is a first time',\n",
    "       'he has been doing',\n",
    "       'the newspapers are',\n",
    "       'this is exactly',\n",
    "       'fissures in hurriyat',\n",
    "       'we are actively',\n",
    "       'there is a small role',\n",
    "       'the film is too bad',\n",
    "        'can we have a',\n",
    "       'is this',\n",
    "        'the film is to be',\n",
    "       'akshay kumar is going']\n",
    "\n",
    "\n",
    "for sent in test:\n",
    "    generate_output(sent)"
   ]
  },
  {
   "cell_type": "code",
   "execution_count": null,
   "metadata": {},
   "outputs": [],
   "source": []
  },
  {
   "cell_type": "code",
   "execution_count": null,
   "metadata": {},
   "outputs": [],
   "source": []
  }
 ],
 "metadata": {
  "kernelspec": {
   "display_name": "Python 3",
   "language": "python",
   "name": "python3"
  },
  "language_info": {
   "codemirror_mode": {
    "name": "ipython",
    "version": 3
   },
   "file_extension": ".py",
   "mimetype": "text/x-python",
   "name": "python",
   "nbconvert_exporter": "python",
   "pygments_lexer": "ipython3",
   "version": "3.7.1"
  }
 },
 "nbformat": 4,
 "nbformat_minor": 2
}
